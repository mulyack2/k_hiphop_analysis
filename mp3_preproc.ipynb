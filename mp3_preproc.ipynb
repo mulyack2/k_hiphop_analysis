{
 "cells": [
  {
   "cell_type": "code",
   "execution_count": 1,
   "metadata": {},
   "outputs": [],
   "source": [
    "import os\n",
    "from glob import glob\n",
    "import pandas as pd\n",
    "import librosa\n",
    "\n",
    "from fma_related.features import FeatureExtractor\n",
    "import warnings\n",
    "\n",
    "warnings.filterwarnings(action=\"ignore\")"
   ]
  },
  {
   "cell_type": "code",
   "execution_count": 2,
   "metadata": {},
   "outputs": [],
   "source": [
    "file_paths = glob(\"./data/k_hiphop/*.mp3\")"
   ]
  },
  {
   "cell_type": "code",
   "execution_count": 4,
   "metadata": {},
   "outputs": [],
   "source": [
    "feature_df_list = list()\n",
    "for file_path in file_paths:\n",
    "    x, sr = librosa.load(file_path, sr=None, mono=True)\n",
    "\n",
    "    feature_extractor = FeatureExtractor(x, sr, file_path)\n",
    "    _feature_df = feature_extractor()\n",
    "    feature_df_list.append(_feature_df)\n",
    "\n",
    "feature_df = pd.concat(feature_df_list, axis=0)"
   ]
  },
  {
   "cell_type": "code",
   "execution_count": 5,
   "metadata": {},
   "outputs": [],
   "source": [
    "feature_df.to_csv(\"./data/k_hiphop.csv\")"
   ]
  }
 ],
 "metadata": {
  "kernelspec": {
   "display_name": "quant_trading",
   "language": "python",
   "name": "python3"
  },
  "language_info": {
   "codemirror_mode": {
    "name": "ipython",
    "version": 3
   },
   "file_extension": ".py",
   "mimetype": "text/x-python",
   "name": "python",
   "nbconvert_exporter": "python",
   "pygments_lexer": "ipython3",
   "version": "3.10.13"
  }
 },
 "nbformat": 4,
 "nbformat_minor": 2
}
